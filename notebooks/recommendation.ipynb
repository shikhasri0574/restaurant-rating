{
 "cells": [
  {
   "cell_type": "code",
   "execution_count": 1,
   "metadata": {},
   "outputs": [
    {
     "name": "stderr",
     "output_type": "stream",
     "text": [
      "C:\\Users\\shikh\\AppData\\Local\\Temp\\ipykernel_29744\\273948285.py:16: FutureWarning: A value is trying to be set on a copy of a DataFrame or Series through chained assignment using an inplace method.\n",
      "The behavior will change in pandas 3.0. This inplace method will never work because the intermediate object on which we are setting values always behaves as a copy.\n",
      "\n",
      "For example, when doing 'df[col].method(value, inplace=True)', try using 'df.method({col: value}, inplace=True)' or df[col] = df[col].method(value) instead, to perform the operation inplace on the original object.\n",
      "\n",
      "\n",
      "  df['Price range'].fillna(df['Price range'].mode()[0], inplace=True)\n",
      "C:\\Users\\shikh\\AppData\\Local\\Temp\\ipykernel_29744\\273948285.py:17: FutureWarning: A value is trying to be set on a copy of a DataFrame or Series through chained assignment using an inplace method.\n",
      "The behavior will change in pandas 3.0. This inplace method will never work because the intermediate object on which we are setting values always behaves as a copy.\n",
      "\n",
      "For example, when doing 'df[col].method(value, inplace=True)', try using 'df.method({col: value}, inplace=True)' or df[col] = df[col].method(value) instead, to perform the operation inplace on the original object.\n",
      "\n",
      "\n",
      "  df['Currency'].fillna(df['Currency'].mode()[0], inplace=True)\n"
     ]
    }
   ],
   "source": [
    "import pandas as pd\n",
    "from sklearn.preprocessing import LabelEncoder\n",
    "\n",
    "# Load dataset\n",
    "df = pd.read_csv(\"C:/Users/shikh/OneDrive/Desktop/Restaurant rating/Data/Dataset.csv\")\n",
    "\n",
    "# Drop irrelevant columns\n",
    "drop_cols = ['Restaurant ID', 'Address', 'Locality', 'Locality Verbose',\n",
    "             'Longitude', 'Latitude', 'Rating color', 'Rating text']\n",
    "df.drop(columns=drop_cols, inplace=True, errors='ignore')\n",
    "\n",
    "# Drop rows with missing essential info\n",
    "df.dropna(subset=['Aggregate rating', 'City', 'Cuisines'], inplace=True)\n",
    "\n",
    "# Fill missing values\n",
    "df['Price range'].fillna(df['Price range'].mode()[0], inplace=True)\n",
    "df['Currency'].fillna(df['Currency'].mode()[0], inplace=True)\n",
    "\n",
    "# Encode categorical values (LabelEncoder for now)\n",
    "le = LabelEncoder()\n",
    "for col in ['City', 'Currency']:\n",
    "    df[col] = le.fit_transform(df[col].astype(str))\n",
    "\n",
    "df.reset_index(drop=True, inplace=True)\n"
   ]
  },
  {
   "cell_type": "code",
   "execution_count": 2,
   "metadata": {},
   "outputs": [],
   "source": [
    "from sklearn.feature_extraction.text import TfidfVectorizer\n",
    "from sklearn.metrics.pairwise import cosine_similarity\n",
    "\n",
    "# Vectorize 'Cuisines'\n",
    "tfidf = TfidfVectorizer(stop_words='english')\n",
    "df['Cuisines'] = df['Cuisines'].fillna('')\n",
    "tfidf_matrix = tfidf.fit_transform(df['Cuisines'])\n",
    "\n",
    "# Compute cosine similarity\n",
    "cosine_sim = cosine_similarity(tfidf_matrix, tfidf_matrix)\n"
   ]
  },
  {
   "cell_type": "code",
   "execution_count": 3,
   "metadata": {},
   "outputs": [],
   "source": [
    "from sklearn.feature_extraction.text import TfidfVectorizer\n",
    "from sklearn.metrics.pairwise import cosine_similarity\n",
    "\n",
    "# Vectorize 'Cuisines'\n",
    "tfidf = TfidfVectorizer(stop_words='english')\n",
    "df['Cuisines'] = df['Cuisines'].fillna('')\n",
    "tfidf_matrix = tfidf.fit_transform(df['Cuisines'])\n",
    "\n",
    "# Compute cosine similarity\n",
    "cosine_sim = cosine_similarity(tfidf_matrix, tfidf_matrix)\n"
   ]
  },
  {
   "cell_type": "code",
   "execution_count": 6,
   "metadata": {},
   "outputs": [],
   "source": [
    "def recommend_restaurants(user_cuisine, user_price, user_city, top_n=5):\n",
    "    # Filter restaurants based on user preferences\n",
    "    filtered_df = df[\n",
    "        (df['Price range'] == user_price) \n",
    "    ]\n",
    "    \n",
    "    if filtered_df.empty:\n",
    "        return \"No matches found. Try different preferences.\"\n",
    "    \n",
    "    # Use the first matching restaurant as reference\n",
    "    idx = filtered_df.index[0]\n",
    "\n",
    "    # Get similarity scores\n",
    "    sim_scores = list(enumerate(cosine_sim[idx]))\n",
    "    \n",
    "    # Sort by similarity\n",
    "    sim_scores = sorted(sim_scores, key=lambda x: x[1], reverse=True)\n",
    "\n",
    "    # Get indices of top_n most similar restaurants\n",
    "    top_indices = [i[0] for i in sim_scores[1:top_n+1]]\n",
    "    \n",
    "    return df.iloc[top_indices][['Restaurant Name', 'Cuisines', 'Aggregate rating', 'Price range', 'City']]\n"
   ]
  },
  {
   "cell_type": "code",
   "execution_count": 7,
   "metadata": {},
   "outputs": [
    {
     "name": "stdout",
     "output_type": "stream",
     "text": [
      "Top Restaurant Recommendations:\n",
      "\n",
      "              Restaurant Name      Cuisines  Aggregate rating  Price range  \\\n",
      "6812                   Kori's  Cafe, Korean               3.6            2   \n",
      "14    Sodam Korean Restaurant        Korean               4.3            3   \n",
      "1624           Hahn's Kitchen        Korean               3.2            3   \n",
      "1854          Gung The Palace        Korean               4.2            4   \n",
      "3283         Korea Restaurant        Korean               3.0            2   \n",
      "\n",
      "      City  \n",
      "6812    87  \n",
      "14     111  \n",
      "1624    50  \n",
      "1854    50  \n",
      "3283    87  \n"
     ]
    }
   ],
   "source": [
    "# Example input preferences\n",
    "user_cuisine = \"North Indian\"\n",
    "user_price = 2\n",
    "user_city = \"New Delhi\"\n",
    "\n",
    "recommendations = recommend_restaurants(user_cuisine, user_price, user_city)\n",
    "print(\"Top Restaurant Recommendations:\\n\")\n",
    "print(recommendations)\n"
   ]
  }
 ],
 "metadata": {
  "kernelspec": {
   "display_name": "Python (Torch)",
   "language": "python",
   "name": "torch_env"
  },
  "language_info": {
   "codemirror_mode": {
    "name": "ipython",
    "version": 3
   },
   "file_extension": ".py",
   "mimetype": "text/x-python",
   "name": "python",
   "nbconvert_exporter": "python",
   "pygments_lexer": "ipython3",
   "version": "3.12.6"
  }
 },
 "nbformat": 4,
 "nbformat_minor": 2
}
